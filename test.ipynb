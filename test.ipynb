{
 "cells": [
  {
   "cell_type": "code",
   "execution_count": 1,
   "metadata": {},
   "outputs": [
    {
     "name": "stdout",
     "output_type": "stream",
     "text": [
      "Take a deep breath, Let's work this out in a step by step way to be sure we have the right answer. If there's a perfect solution, I'll tip $200!\n",
      "An error occurred: 404 page not found\n",
      "An error occurred: 404 page not found\n",
      "An error occurred: 404 page not found\n"
     ]
    }
   ],
   "source": [
    "from openai import OpenAI\n",
    "\n",
    "# 初始化OpenAI客户端\n",
    "client = OpenAI(\n",
    "    base_url=\"https://integrate.api.nvidia.com/v1\",  # Ensure this URL is correct\n",
    "    api_key=\"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\"\n",
    ")\n",
    "\n",
    "def chat_with_openai(client):\n",
    "    session_messages = [{\"role\": \"system\", \"content\": \"Take a deep breath, Let's work this out in a step by step way to be sure we have the right answer. If there's a perfect solution, I'll tip $200!\"}]\n",
    "    print(session_messages[0]['content'])  # 显示系统初始提示\n",
    "\n",
    "    while True:\n",
    "        user_input = input(\"You: \")\n",
    "        if user_input.lower() == \"exit\":\n",
    "            print(\"Exiting chat...\")\n",
    "            break\n",
    "\n",
    "        session_messages.append({\"role\": \"user\", \"content\": user_input})\n",
    "\n",
    "        try:\n",
    "            # 创建对话完成请求，启用流式处理\n",
    "            completion = client.chat.completions.create(\n",
    "                model=\"meta/llama3-70b\",  # Replace with your model\n",
    "                messages=session_messages,\n",
    "                temperature=0.5,\n",
    "                top_p=1,\n",
    "                max_tokens=1024,\n",
    "                stream=True\n",
    "            )\n",
    "\n",
    "            # 处理每个流式响应块\n",
    "            for chunk in completion:\n",
    "                if chunk.choices and chunk.choices[0].delta and chunk.choices[0].delta.content:\n",
    "                    print(chunk.choices[0].delta.content, end=\"\")\n",
    "\n",
    "        except Exception as e:\n",
    "            print(\"An error occurred:\", e)\n",
    "\n",
    "# 确保你的base_url和api_key设置正确\n",
    "chat_with_openai(client)"
   ]
  },
  {
   "cell_type": "code",
   "execution_count": null,
   "metadata": {},
   "outputs": [],
   "source": []
  }
 ],
 "metadata": {
  "kernelspec": {
   "display_name": "dl",
   "language": "python",
   "name": "python3"
  },
  "language_info": {
   "codemirror_mode": {
    "name": "ipython",
    "version": 3
   },
   "file_extension": ".py",
   "mimetype": "text/x-python",
   "name": "python",
   "nbconvert_exporter": "python",
   "pygments_lexer": "ipython3",
   "version": "3.11.4"
  }
 },
 "nbformat": 4,
 "nbformat_minor": 2
}
